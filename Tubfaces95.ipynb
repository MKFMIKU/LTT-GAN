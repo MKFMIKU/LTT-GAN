{
 "cells": [
  {
   "cell_type": "code",
   "execution_count": 22,
   "source": [
    "import os\n",
    "os.environ[\"CUDA_VISIBLE_DEVICES\"]=\"1\"\n",
    "\n",
    "import glob\n",
    "references = glob.glob('/media/viu/DISK/clean_tif_8bit/8-bit sRGB Processed/*None_PC00C00*.tif')\n",
    "references.sort(key=lambda x: int(x.split('/')[-1].split('_')[1]))\n",
    "references = references[:96]\n",
    "references.remove('/media/viu/DISK/clean_tif_8bit/8-bit sRGB Processed/PGR Flea_0082__None_PC00C00__E0_000_1-180901-141229.tif')\n",
    "ref_indexs = [int(reference.split('/')[-1].split('_')[1]) for reference in references]\n",
    "\n",
    "tubimgs = list(glob.glob('/media/viu/DISK/Turbulence_data/Range Stills/300m/*None_PC00C00*.tif'))\n",
    "tubimgs.sort(key=lambda x: int(x.split('/')[-1].split('_')[1]))\n",
    "new_tubimgs = []\n",
    "for tubimg in tubimgs:\n",
    "    index = int(tubimg.split('/')[-1].split('_')[1])\n",
    "    if index in ref_indexs:\n",
    "        new_tubimgs.append(tubimg)\n",
    "\n",
    "tubimgs = new_tubimgs\n",
    "print(len(references), len(tubimgs), len(tubimgs)/len(references))"
   ],
   "outputs": [
    {
     "output_type": "stream",
     "name": "stdout",
     "text": [
      "95 95 1.0\n"
     ]
    }
   ],
   "metadata": {}
  },
  {
   "cell_type": "code",
   "execution_count": null,
   "source": [
    "from basicsr.utils import img2tensor, tensor2img\n",
    "from torchvision.transforms.functional import normalize\n",
    "\n",
    "from facexlib.utils.face_restoration_helper import FaceRestoreHelper\n",
    "face_helper = FaceRestoreHelper(\n",
    "    2,\n",
    "    face_size=512,\n",
    "    crop_ratio=(1.2, 1.2),\n",
    "    det_model='retinaface_resnet50',\n",
    "    save_ext='png',\n",
    "    device='cuda:0'\n",
    ")"
   ],
   "outputs": [],
   "metadata": {}
  },
  {
   "cell_type": "code",
   "execution_count": null,
   "source": [
    "import cv2\n",
    "idx = 24\n",
    "tub_face_img = cv2.imread(references[idx], cv2.IMREAD_UNCHANGED)\n",
    "face_helper.clean_all()\n",
    "face_helper.read_image(tub_face_img)\n",
    "face_helper.get_face_landmarks_5(only_center_face=True)\n",
    "face_helper.align_warp_face()\n",
    "tub_face_img = face_helper.cropped_faces[0]\n",
    "tub_face_img = cv2.resize(tub_face_img, (512, 512), cv2.INTER_LANCZOS4)\n",
    "\n",
    "tub_face_img_th = img2tensor(tub_face_img / 255., bgr2rgb=True, float32=True)\n",
    "normalize(tub_face_img_th, (0.5, 0.5, 0.5), (0.5, 0.5, 0.5), inplace=True)\n",
    "tub_face_img_th = tub_face_img_th.unsqueeze(0).to('cuda:0')"
   ],
   "outputs": [],
   "metadata": {}
  },
  {
   "cell_type": "code",
   "execution_count": null,
   "source": [
    "import matplotlib.pyplot as plt\n",
    "\n",
    "plt.figure(figsize=(12, 12))\n",
    "plt.imshow(tensor2img(tub_face_img_th, rgb2bgr=False, min_max=(-1, 1)))"
   ],
   "outputs": [],
   "metadata": {}
  },
  {
   "cell_type": "code",
   "execution_count": null,
   "source": [
    "for index, reference in enumerate(references):\n",
    "    tub_face_img = cv2.imread(reference, cv2.IMREAD_UNCHANGED)\n",
    "    face_helper.clean_all()\n",
    "    face_helper.read_image(tub_face_img)\n",
    "    face_helper.get_face_landmarks_5(only_center_face=True)\n",
    "    face_helper.align_warp_face()\n",
    "    tub_face_img = face_helper.cropped_faces[0]\n",
    "    tub_face_img = cv2.resize(tub_face_img, (512, 512), cv2.INTER_LANCZOS4)\n",
    "\n",
    "    tub_face_img_th = img2tensor(tub_face_img / 255., bgr2rgb=True, float32=True)\n",
    "    normalize(tub_face_img_th, (0.5, 0.5, 0.5), (0.5, 0.5, 0.5), inplace=True)\n",
    "    tub_face_img_th = tub_face_img_th.unsqueeze(0).to('cuda:0')\n",
    "    tub_face_img = tensor2img(tub_face_img_th, rgb2bgr=True, min_max=(-1, 1))\n",
    "    cv2.imwrite(os.path.join('/data/datasets/Tubfaces95/references/', '%02d.png' % (index+1)), tub_face_img)"
   ],
   "outputs": [],
   "metadata": {}
  },
  {
   "cell_type": "code",
   "execution_count": null,
   "source": [
    "import numpy as np\n",
    "def adjust_gamma(image, gamma=1.0):\n",
    "\t# build a lookup table mapping the pixel values [0, 255] to\n",
    "\t# their adjusted gamma values\n",
    "\tinvGamma = 1.0 / gamma\n",
    "\ttable = np.array([((i / 255.0) ** invGamma) * 255\n",
    "\t\tfor i in np.arange(0, 256)]).astype(\"uint8\")\n",
    "\t# apply gamma correction using the lookup table\n",
    "\treturn cv2.LUT(image, table)\n",
    "\n",
    "for index, tubimg in enumerate(tubimgs):\n",
    "    tub_face_img = cv2.imread(tubimg, cv2.IMREAD_UNCHANGED).astype(np.float32)\n",
    "    tub_face_img = np.uint8((tub_face_img - tub_face_img.min()) / (tub_face_img.max()-tub_face_img.min()) * 255.)\n",
    "    tub_face_img = adjust_gamma(tub_face_img, 2.2)\n",
    "    tub_face_img = np.clip(tub_face_img, 0, 255)\n",
    "    face_helper.clean_all()\n",
    "    face_helper.read_image(tub_face_img)\n",
    "    face_helper.get_face_landmarks_5(only_center_face=True)\n",
    "    face_helper.align_warp_face()\n",
    "    tub_face_img = face_helper.cropped_faces[0]\n",
    "    tub_face_img = cv2.resize(tub_face_img, (512, 512), cv2.INTER_LANCZOS4)\n",
    "\n",
    "    tub_face_img_th = img2tensor(tub_face_img / 255., bgr2rgb=True, float32=True)\n",
    "    normalize(tub_face_img_th, (0.5, 0.5, 0.5), (0.5, 0.5, 0.5), inplace=True)\n",
    "    tub_face_img_th = tub_face_img_th.unsqueeze(0).to('cuda:0')\n",
    "    tub_face_img = tensor2img(tub_face_img_th, rgb2bgr=True, min_max=(-1, 1))\n",
    "    denoised_tub_face_img = cv2.fastNlMeansDenoisingColored(tub_face_img,None,4,4,7,21)\n",
    "    \n",
    "    cv2.imwrite(os.path.join('/data/datasets/Tubfaces95/tubimages/', '%02d.png' % (index+1)), denoised_tub_face_img)"
   ],
   "outputs": [],
   "metadata": {}
  },
  {
   "cell_type": "code",
   "execution_count": null,
   "source": [],
   "outputs": [],
   "metadata": {}
  }
 ],
 "metadata": {
  "orig_nbformat": 4,
  "language_info": {
   "name": "python",
   "version": "3.8.8",
   "mimetype": "text/x-python",
   "codemirror_mode": {
    "name": "ipython",
    "version": 3
   },
   "pygments_lexer": "ipython3",
   "nbconvert_exporter": "python",
   "file_extension": ".py"
  },
  "kernelspec": {
   "name": "python3",
   "display_name": "Python 3.8.8 64-bit ('base': conda)"
  },
  "interpreter": {
   "hash": "8fa8cd504d75d46d44879cae4352ad3b6a4cb579ff54b99332e86533d94c70b4"
  }
 },
 "nbformat": 4,
 "nbformat_minor": 2
}